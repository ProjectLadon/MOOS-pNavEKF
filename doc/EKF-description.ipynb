{
 "cells": [
  {
   "cell_type": "markdown",
   "metadata": {},
   "source": [
    "# State Transition\n",
    "\n",
    "This is an EKF implementation for sensor fusion of GPS and 9-axis IMU data for a 2D navigation problem. It assumes local coordinates X (northing) and y (easting), measured in meters from an arbitrary starting point. Heading is in degrees clockwise from north. Since GPS gives us course and speed while the IMU gives us heading, longitudinal acceleration, and yaw rate. This gives us the following state vector:\n",
    "\n",
    "$$\n",
    "\\vec{x}_k = \n",
    "\\begin{bmatrix}\n",
    "x_k & y_k & \\theta_k & v_k & \\dot\\theta_k & \\dot v_k\n",
    "\\end{bmatrix}\n",
    "$$\n",
    "\n",
    "Where $k$ is the current time step, $x_k$ is the number of meters north of the origin, $y_k$ is the number of meters east, $\\theta_k$ is heading in degrees clockwise of true north, $v_k$ is the velocity along the heading in meters per second, $\\dot\\theta_k$ is the yaw rate in clockwise degrees per second, and $\\dot v_k$ is the acceleration along the heading in meters per second squared. The state transition functions from step $k-l$ to step $k$ are as follows:\n",
    "\n",
    "\\begin{align}\n",
    "\\hat{x}_k &=& x_{k-1} + \\Delta{t}v_{k-1}\\cos{\\theta_{k-1}} + 0.5{\\Delta{t}}^2\\dot{v}_{k-1}\\cos{\\theta_{k-1}} \\\\\n",
    "\\hat{y}_k &=& y_{k-1} + \\Delta{t}v_{k-1}\\sin{\\theta_{k-1}} + 0.5{\\Delta{t}}^2\\dot{v}_{k-1}\\sin{\\theta_{k-1}} \\\\\n",
    "\\hat{\\theta}_k &=& \\theta_{k-1} + \\Delta{t}\\dot\\theta_{k-1} \\\\\n",
    "\\hat{v}_k &=& v_{k-1} + \\Delta{t}\\dot{v}_{k-1} \\\\\n",
    "\\hat{\\dot\\theta}_k &=& \\dot\\theta_{k-1} \\\\\n",
    "\\hat{\\dot{v}}_k &=& \\dot{v}_{k-1}\n",
    "\\end{align}\n",
    "\n",
    "This of course is non-linear so we need to use an extended Kalman filter. "
   ]
  },
  {
   "cell_type": "markdown",
   "metadata": {},
   "source": [
    "# Sensor Inputs\n",
    "\n",
    "We can ignore control inputs for the purposes of this EKF implementation, leaving only the $\\bar{C}$ matrix to predict the value of the $\\vec{z}_k$ sensor input vector from the estimated state $\\hat{\\vec{x}}_k$. We have seven inputs here:\n",
    "\n",
    "$$\n",
    "\\vec{z}_k = \n",
    "\\begin{bmatrix}\n",
    "x_{gps_k} & y_{gps_k} & \\theta_{gps_k} & \\theta_{imu_k} & v_{gps_k} & \\dot\\theta_{imu_k} & \\dot v_{imu_k}\n",
    "\\end{bmatrix}\n",
    "$$\n",
    "\n",
    "Where the subscript indicates the source of the sensor value being predicted. Note that this includes any necessary scaling and offsets, such as magnetic declination. The resulting $\\bar{C}$ matrix is as follows:\n",
    "\n",
    "$$\n",
    "\\bar{C} = \n",
    "\\begin{bmatrix}\n",
    "1 & 0 & 0 & 0 & 0 & 0 \\cr \n",
    "0 & 1 & 0 & 0 & 0 & 0 \\cr \n",
    "0 & 0 & 1 & 0 & 0 & 0 \\cr \n",
    "0 & 0 & 1 & 0 & 0 & 0 \\cr \n",
    "0 & 0 & 0 & 1 & 0 & 0 \\cr \n",
    "0 & 0 & 0 & 0 & 1 & 0 \\cr \n",
    "0 & 0 & 0 & 0 & 0 & 1\n",
    "\\end{bmatrix}\n",
    "$$"
   ]
  },
  {
   "cell_type": "markdown",
   "metadata": {},
   "source": [
    "# Jacobian\n",
    "\n",
    "The last piece to calculate is the Jacobian of the state transition function, $\\bar{F}_k$. The value of the Jacobian is calculated at each time step according to the following equation:\n",
    "\n",
    "$$\n",
    "\\bar{F}_k = \n",
    "\\begin{bmatrix}\n",
    "1 & 0 & -\\Delta{t}v_k\\sin{\\theta_k} - 0.5{\\Delta{t}}^2\\dot{v}_k\\sin{\\theta_k} & \\Delta{t}\\cos{\\theta_k} & 0 & 0.5{\\Delta{t}}^2\\dot{v}_k\\cos{\\theta_k} \\cr\n",
    "0 & 1 & \\Delta{t}v_k\\cos{\\theta_k} + 0.5{\\Delta{t}}^2\\dot{v}_k\\cos{\\theta_k} & \\Delta{t}\\sin{\\theta_k} & 0 & 0.5{\\Delta{t}}^2\\dot{v}_k\\sin{\\theta_k} \\cr\n",
    "0 & 0 & 1 & 0 & \\Delta{t} & 0 \\cr\n",
    "0 & 0 & 0 & 1 & 0 & \\Delta{t} \\cr\n",
    "0 & 0 & 0 & 0 & 1 & 0 \\cr\n",
    "0 & 0 & 0 & 0 & 0 & 1 \n",
    "\\end{bmatrix}\n",
    "$$"
   ]
  },
  {
   "cell_type": "markdown",
   "metadata": {},
   "source": [
    "# Noise Modeling\n",
    "\n",
    "In order to make things simpler, we assume that the initial covariance estimate, $\\bar{P}$ is an identity matrix as are the other noise matrices."
   ]
  },
  {
   "cell_type": "code",
   "execution_count": null,
   "metadata": {
    "collapsed": true
   },
   "outputs": [],
   "source": []
  }
 ],
 "metadata": {
  "kernelspec": {
   "display_name": "Python 3",
   "language": "python",
   "name": "python3"
  },
  "language_info": {
   "codemirror_mode": {
    "name": "ipython",
    "version": 2
   },
   "file_extension": ".py",
   "mimetype": "text/x-python",
   "name": "python",
   "nbconvert_exporter": "python",
   "pygments_lexer": "ipython2",
   "version": "2.7.13"
  }
 },
 "nbformat": 4,
 "nbformat_minor": 2
}
